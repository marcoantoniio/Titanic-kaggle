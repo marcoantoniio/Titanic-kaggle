{
 "cells": [
  {
   "cell_type": "markdown",
   "id": "0b5bafa8",
   "metadata": {},
   "source": [
    "# Fazendo o processo inicial como importar as bibliotecas, conferir o dataset etc"
   ]
  },
  {
   "cell_type": "code",
   "execution_count": 2,
   "id": "5f5ea20b-043e-4d77-9a3e-1249c08c9afe",
   "metadata": {
    "tags": []
   },
   "outputs": [],
   "source": [
    "# Importando o pandas que irei usar para explorar o dataset\n",
    "\n",
    "import pandas as pd"
   ]
  },
  {
   "cell_type": "code",
   "execution_count": 3,
   "id": "d739f449-12f7-4230-8d52-32347f567e37",
   "metadata": {
    "tags": []
   },
   "outputs": [],
   "source": [
    "# Importando os dois dataset, já separado entre treino e teste\n",
    "\n",
    "df = pd.read_csv('titanic_train.csv')\n",
    "teste = pd.read_csv('titanic_test.csv')"
   ]
  },
  {
   "cell_type": "code",
   "execution_count": 4,
   "id": "2d35d8cb-b2f6-4e35-836d-3fc5dec784d2",
   "metadata": {
    "tags": []
   },
   "outputs": [
    {
     "data": {
      "text/html": [
       "<div>\n",
       "<style scoped>\n",
       "    .dataframe tbody tr th:only-of-type {\n",
       "        vertical-align: middle;\n",
       "    }\n",
       "\n",
       "    .dataframe tbody tr th {\n",
       "        vertical-align: top;\n",
       "    }\n",
       "\n",
       "    .dataframe thead th {\n",
       "        text-align: right;\n",
       "    }\n",
       "</style>\n",
       "<table border=\"1\" class=\"dataframe\">\n",
       "  <thead>\n",
       "    <tr style=\"text-align: right;\">\n",
       "      <th></th>\n",
       "      <th>PassengerId</th>\n",
       "      <th>Survived</th>\n",
       "      <th>Pclass</th>\n",
       "      <th>Name</th>\n",
       "      <th>Sex</th>\n",
       "      <th>Age</th>\n",
       "      <th>SibSp</th>\n",
       "      <th>Parch</th>\n",
       "      <th>Ticket</th>\n",
       "      <th>Fare</th>\n",
       "      <th>Cabin</th>\n",
       "      <th>Embarked</th>\n",
       "    </tr>\n",
       "  </thead>\n",
       "  <tbody>\n",
       "    <tr>\n",
       "      <th>0</th>\n",
       "      <td>1</td>\n",
       "      <td>0</td>\n",
       "      <td>3</td>\n",
       "      <td>Braund, Mr. Owen Harris</td>\n",
       "      <td>male</td>\n",
       "      <td>22.0</td>\n",
       "      <td>1</td>\n",
       "      <td>0</td>\n",
       "      <td>A/5 21171</td>\n",
       "      <td>7.2500</td>\n",
       "      <td>NaN</td>\n",
       "      <td>S</td>\n",
       "    </tr>\n",
       "    <tr>\n",
       "      <th>1</th>\n",
       "      <td>2</td>\n",
       "      <td>1</td>\n",
       "      <td>1</td>\n",
       "      <td>Cumings, Mrs. John Bradley (Florence Briggs Th...</td>\n",
       "      <td>female</td>\n",
       "      <td>38.0</td>\n",
       "      <td>1</td>\n",
       "      <td>0</td>\n",
       "      <td>PC 17599</td>\n",
       "      <td>71.2833</td>\n",
       "      <td>C85</td>\n",
       "      <td>C</td>\n",
       "    </tr>\n",
       "    <tr>\n",
       "      <th>2</th>\n",
       "      <td>3</td>\n",
       "      <td>1</td>\n",
       "      <td>3</td>\n",
       "      <td>Heikkinen, Miss. Laina</td>\n",
       "      <td>female</td>\n",
       "      <td>26.0</td>\n",
       "      <td>0</td>\n",
       "      <td>0</td>\n",
       "      <td>STON/O2. 3101282</td>\n",
       "      <td>7.9250</td>\n",
       "      <td>NaN</td>\n",
       "      <td>S</td>\n",
       "    </tr>\n",
       "    <tr>\n",
       "      <th>3</th>\n",
       "      <td>4</td>\n",
       "      <td>1</td>\n",
       "      <td>1</td>\n",
       "      <td>Futrelle, Mrs. Jacques Heath (Lily May Peel)</td>\n",
       "      <td>female</td>\n",
       "      <td>35.0</td>\n",
       "      <td>1</td>\n",
       "      <td>0</td>\n",
       "      <td>113803</td>\n",
       "      <td>53.1000</td>\n",
       "      <td>C123</td>\n",
       "      <td>S</td>\n",
       "    </tr>\n",
       "    <tr>\n",
       "      <th>4</th>\n",
       "      <td>5</td>\n",
       "      <td>0</td>\n",
       "      <td>3</td>\n",
       "      <td>Allen, Mr. William Henry</td>\n",
       "      <td>male</td>\n",
       "      <td>35.0</td>\n",
       "      <td>0</td>\n",
       "      <td>0</td>\n",
       "      <td>373450</td>\n",
       "      <td>8.0500</td>\n",
       "      <td>NaN</td>\n",
       "      <td>S</td>\n",
       "    </tr>\n",
       "    <tr>\n",
       "      <th>...</th>\n",
       "      <td>...</td>\n",
       "      <td>...</td>\n",
       "      <td>...</td>\n",
       "      <td>...</td>\n",
       "      <td>...</td>\n",
       "      <td>...</td>\n",
       "      <td>...</td>\n",
       "      <td>...</td>\n",
       "      <td>...</td>\n",
       "      <td>...</td>\n",
       "      <td>...</td>\n",
       "      <td>...</td>\n",
       "    </tr>\n",
       "    <tr>\n",
       "      <th>886</th>\n",
       "      <td>887</td>\n",
       "      <td>0</td>\n",
       "      <td>2</td>\n",
       "      <td>Montvila, Rev. Juozas</td>\n",
       "      <td>male</td>\n",
       "      <td>27.0</td>\n",
       "      <td>0</td>\n",
       "      <td>0</td>\n",
       "      <td>211536</td>\n",
       "      <td>13.0000</td>\n",
       "      <td>NaN</td>\n",
       "      <td>S</td>\n",
       "    </tr>\n",
       "    <tr>\n",
       "      <th>887</th>\n",
       "      <td>888</td>\n",
       "      <td>1</td>\n",
       "      <td>1</td>\n",
       "      <td>Graham, Miss. Margaret Edith</td>\n",
       "      <td>female</td>\n",
       "      <td>19.0</td>\n",
       "      <td>0</td>\n",
       "      <td>0</td>\n",
       "      <td>112053</td>\n",
       "      <td>30.0000</td>\n",
       "      <td>B42</td>\n",
       "      <td>S</td>\n",
       "    </tr>\n",
       "    <tr>\n",
       "      <th>888</th>\n",
       "      <td>889</td>\n",
       "      <td>0</td>\n",
       "      <td>3</td>\n",
       "      <td>Johnston, Miss. Catherine Helen \"Carrie\"</td>\n",
       "      <td>female</td>\n",
       "      <td>NaN</td>\n",
       "      <td>1</td>\n",
       "      <td>2</td>\n",
       "      <td>W./C. 6607</td>\n",
       "      <td>23.4500</td>\n",
       "      <td>NaN</td>\n",
       "      <td>S</td>\n",
       "    </tr>\n",
       "    <tr>\n",
       "      <th>889</th>\n",
       "      <td>890</td>\n",
       "      <td>1</td>\n",
       "      <td>1</td>\n",
       "      <td>Behr, Mr. Karl Howell</td>\n",
       "      <td>male</td>\n",
       "      <td>26.0</td>\n",
       "      <td>0</td>\n",
       "      <td>0</td>\n",
       "      <td>111369</td>\n",
       "      <td>30.0000</td>\n",
       "      <td>C148</td>\n",
       "      <td>C</td>\n",
       "    </tr>\n",
       "    <tr>\n",
       "      <th>890</th>\n",
       "      <td>891</td>\n",
       "      <td>0</td>\n",
       "      <td>3</td>\n",
       "      <td>Dooley, Mr. Patrick</td>\n",
       "      <td>male</td>\n",
       "      <td>32.0</td>\n",
       "      <td>0</td>\n",
       "      <td>0</td>\n",
       "      <td>370376</td>\n",
       "      <td>7.7500</td>\n",
       "      <td>NaN</td>\n",
       "      <td>Q</td>\n",
       "    </tr>\n",
       "  </tbody>\n",
       "</table>\n",
       "<p>891 rows × 12 columns</p>\n",
       "</div>"
      ],
      "text/plain": [
       "     PassengerId  Survived  Pclass  \\\n",
       "0              1         0       3   \n",
       "1              2         1       1   \n",
       "2              3         1       3   \n",
       "3              4         1       1   \n",
       "4              5         0       3   \n",
       "..           ...       ...     ...   \n",
       "886          887         0       2   \n",
       "887          888         1       1   \n",
       "888          889         0       3   \n",
       "889          890         1       1   \n",
       "890          891         0       3   \n",
       "\n",
       "                                                  Name     Sex   Age  SibSp  \\\n",
       "0                              Braund, Mr. Owen Harris    male  22.0      1   \n",
       "1    Cumings, Mrs. John Bradley (Florence Briggs Th...  female  38.0      1   \n",
       "2                               Heikkinen, Miss. Laina  female  26.0      0   \n",
       "3         Futrelle, Mrs. Jacques Heath (Lily May Peel)  female  35.0      1   \n",
       "4                             Allen, Mr. William Henry    male  35.0      0   \n",
       "..                                                 ...     ...   ...    ...   \n",
       "886                              Montvila, Rev. Juozas    male  27.0      0   \n",
       "887                       Graham, Miss. Margaret Edith  female  19.0      0   \n",
       "888           Johnston, Miss. Catherine Helen \"Carrie\"  female   NaN      1   \n",
       "889                              Behr, Mr. Karl Howell    male  26.0      0   \n",
       "890                                Dooley, Mr. Patrick    male  32.0      0   \n",
       "\n",
       "     Parch            Ticket     Fare Cabin Embarked  \n",
       "0        0         A/5 21171   7.2500   NaN        S  \n",
       "1        0          PC 17599  71.2833   C85        C  \n",
       "2        0  STON/O2. 3101282   7.9250   NaN        S  \n",
       "3        0            113803  53.1000  C123        S  \n",
       "4        0            373450   8.0500   NaN        S  \n",
       "..     ...               ...      ...   ...      ...  \n",
       "886      0            211536  13.0000   NaN        S  \n",
       "887      0            112053  30.0000   B42        S  \n",
       "888      2        W./C. 6607  23.4500   NaN        S  \n",
       "889      0            111369  30.0000  C148        C  \n",
       "890      0            370376   7.7500   NaN        Q  \n",
       "\n",
       "[891 rows x 12 columns]"
      ]
     },
     "execution_count": 4,
     "metadata": {},
     "output_type": "execute_result"
    }
   ],
   "source": [
    "# Checando os 4 primeiros valores e os 4 últimos valores do dataset\n",
    "\n",
    "df"
   ]
  },
  {
   "cell_type": "code",
   "execution_count": 7,
   "id": "1dc79a03-c702-4d8a-904c-e4f2ae38a087",
   "metadata": {
    "tags": []
   },
   "outputs": [
    {
     "data": {
      "text/plain": [
       "male      577\n",
       "female    314\n",
       "Name: Sex, dtype: int64"
      ]
     },
     "execution_count": 7,
     "metadata": {},
     "output_type": "execute_result"
    }
   ],
   "source": [
    "# Verificando os possiveis valores da coluna Sex e sua quantidade\n",
    "\n",
    "df.Sex.value_counts()\n"
   ]
  },
  {
   "cell_type": "code",
   "execution_count": 8,
   "id": "5c0dc8a1-298a-4b8d-b8b7-ca4d860d9261",
   "metadata": {
    "tags": []
   },
   "outputs": [],
   "source": [
    "# Criando uma coluna com o nome \"IsMale\" que se o sexo for masculuno o valor sera 1 e se for feminino, o valor sera 0\n",
    "# Assim transformando em binario e deixando compativel com o modelo\n",
    "\n",
    "df['IsMale'] = df['Sex'].apply(lambda x: 1 if x =='male' else 0)"
   ]
  },
  {
   "cell_type": "code",
   "execution_count": 9,
   "id": "8eaa00ca-03cc-4575-aa1e-87238054ffd3",
   "metadata": {
    "tags": []
   },
   "outputs": [
    {
     "data": {
      "text/plain": [
       "Sex     IsMale\n",
       "female  0         314\n",
       "male    1         577\n",
       "Name: Sex, dtype: int64"
      ]
     },
     "execution_count": 9,
     "metadata": {},
     "output_type": "execute_result"
    }
   ],
   "source": [
    "# Checando se não criou nenhum valor diferente e se continua o mesmo tanto\n",
    "\n",
    "df.groupby(['Sex', 'IsMale'])['Sex'].count()"
   ]
  },
  {
   "cell_type": "markdown",
   "id": "938a7ddf",
   "metadata": {},
   "source": [
    "# Retirando algumas colunas que não irei usar no modelo"
   ]
  },
  {
   "cell_type": "code",
   "execution_count": 10,
   "id": "deded72f-299c-45ec-8976-522932dc0730",
   "metadata": {
    "tags": []
   },
   "outputs": [],
   "source": [
    "retirar = ['SibSp', 'Parch']\n",
    "df = df.drop(retirar, axis=1)"
   ]
  },
  {
   "cell_type": "code",
   "execution_count": 11,
   "id": "e3b1c421-9d48-45bd-a091-353830b5ed14",
   "metadata": {
    "tags": []
   },
   "outputs": [],
   "source": [
    "#pd.get_dummies(df['Embarked']).head(10)  Este tratamento piorou o modelo"
   ]
  },
  {
   "cell_type": "code",
   "execution_count": 12,
   "id": "b1b724b1-1097-46ee-a3e0-90935240ec9d",
   "metadata": {
    "tags": []
   },
   "outputs": [],
   "source": [
    "#df = pd.concat([df, pd.get_dummies(df['Embarked'])], axis=1)  Este tratamento piorou o modelo"
   ]
  },
  {
   "cell_type": "code",
   "execution_count": 13,
   "id": "e8fc82c0-f71b-4eb1-abbe-bf46704467d4",
   "metadata": {
    "tags": []
   },
   "outputs": [],
   "source": [
    "df = df.drop(['PassengerId', 'Name'], axis=1)"
   ]
  },
  {
   "cell_type": "code",
   "execution_count": 14,
   "id": "58dcf5b7-8a9d-47ff-a0d6-9486136f3a21",
   "metadata": {
    "tags": []
   },
   "outputs": [],
   "source": [
    "df = df.drop('Cabin', axis=1)"
   ]
  },
  {
   "cell_type": "markdown",
   "id": "5e6f09f7",
   "metadata": {},
   "source": [
    "# ------"
   ]
  },
  {
   "cell_type": "code",
   "execution_count": 15,
   "id": "0821e7bb-0dbe-4043-af1c-96b4e13ff4b4",
   "metadata": {
    "tags": []
   },
   "outputs": [
    {
     "data": {
      "text/plain": [
       "29.69911764705882"
      ]
     },
     "execution_count": 15,
     "metadata": {},
     "output_type": "execute_result"
    }
   ],
   "source": [
    "# Calculando a Media de idade dos passageiros\n",
    "\n",
    "df['Age'].mean("
   ]
  },
  {
   "cell_type": "code",
   "execution_count": 16,
   "id": "7d3c0fb0-6093-4e7f-8916-dc13ec6e3c5c",
   "metadata": {
    "tags": []
   },
   "outputs": [
    {
     "data": {
      "text/plain": [
       "5     NaN\n",
       "17    NaN\n",
       "19    NaN\n",
       "26    NaN\n",
       "28    NaN\n",
       "       ..\n",
       "859   NaN\n",
       "863   NaN\n",
       "868   NaN\n",
       "878   NaN\n",
       "888   NaN\n",
       "Name: Age, Length: 177, dtype: float64"
      ]
     },
     "execution_count": 16,
     "metadata": {},
     "output_type": "execute_result"
    }
   ],
   "source": [
    "# Filtrando apenas Age Vazios\n",
    "\n",
    "df.loc[df['Age'].isnull(), 'Age']"
   ]
  },
  {
   "cell_type": "code",
   "execution_count": 17,
   "id": "96cc85c7-d794-4b3e-a42b-d1543e4f4c06",
   "metadata": {
    "tags": []
   },
   "outputs": [],
   "source": [
    "# Atribuindo a media para as colunas vazias\n",
    "\n",
    "df.loc[df['Age'].isnull(), 'Age'] = df['Age'].mean() "
   ]
  },
  {
   "cell_type": "code",
   "execution_count": 18,
   "id": "065d67bc-5416-4d77-8ffc-478dd93c07fb",
   "metadata": {
    "tags": []
   },
   "outputs": [
    {
     "name": "stdout",
     "output_type": "stream",
     "text": [
      "<class 'pandas.core.frame.DataFrame'>\n",
      "RangeIndex: 891 entries, 0 to 890\n",
      "Data columns (total 8 columns):\n",
      " #   Column    Non-Null Count  Dtype  \n",
      "---  ------    --------------  -----  \n",
      " 0   Survived  891 non-null    int64  \n",
      " 1   Pclass    891 non-null    int64  \n",
      " 2   Sex       891 non-null    object \n",
      " 3   Age       891 non-null    float64\n",
      " 4   Ticket    891 non-null    object \n",
      " 5   Fare      891 non-null    float64\n",
      " 6   Embarked  889 non-null    object \n",
      " 7   IsMale    891 non-null    int64  \n",
      "dtypes: float64(2), int64(3), object(3)\n",
      "memory usage: 55.8+ KB\n"
     ]
    },
    {
     "data": {
      "text/plain": [
       "Survived    0\n",
       "Pclass      0\n",
       "Sex         0\n",
       "Age         0\n",
       "Ticket      0\n",
       "Fare        0\n",
       "Embarked    2\n",
       "IsMale      0\n",
       "dtype: int64"
      ]
     },
     "execution_count": 18,
     "metadata": {},
     "output_type": "execute_result"
    }
   ],
   "source": [
    "# Verificando valores vazios\n",
    "\n",
    "df.info()\n",
    "df.isnull().sum() "
   ]
  },
  {
   "cell_type": "code",
   "execution_count": 19,
   "id": "1c47d8e6-9b04-4a47-84da-579d3006c6f4",
   "metadata": {
    "tags": []
   },
   "outputs": [],
   "source": [
    "# Excluindo tudo que tem espaço vazio\n",
    "\n",
    "df = df.dropna()"
   ]
  },
  {
   "cell_type": "code",
   "execution_count": 20,
   "id": "c211ee91-71d8-4c28-afde-ff05b2339c5b",
   "metadata": {
    "tags": []
   },
   "outputs": [],
   "source": [
    "# Eliminando dados do tipo objeto, não são compativeis com o modelo\n",
    "\n",
    "colunas = df.dtypes[df.dtypes.values == 'object'].index\n",
    "df = df.drop(colunas, axis=1)"
   ]
  },
  {
   "cell_type": "code",
   "execution_count": 21,
   "id": "a7ea42d0-0a60-4de2-bdc9-19a8a8ed981a",
   "metadata": {
    "tags": []
   },
   "outputs": [
    {
     "name": "stdout",
     "output_type": "stream",
     "text": [
      "<class 'pandas.core.frame.DataFrame'>\n",
      "Int64Index: 889 entries, 0 to 890\n",
      "Data columns (total 5 columns):\n",
      " #   Column    Non-Null Count  Dtype  \n",
      "---  ------    --------------  -----  \n",
      " 0   Survived  889 non-null    int64  \n",
      " 1   Pclass    889 non-null    int64  \n",
      " 2   Age       889 non-null    float64\n",
      " 3   Fare      889 non-null    float64\n",
      " 4   IsMale    889 non-null    int64  \n",
      "dtypes: float64(2), int64(3)\n",
      "memory usage: 41.7 KB\n"
     ]
    }
   ],
   "source": [
    "# Pegando as informações do dataframe\n",
    "\n",
    "df.info()"
   ]
  },
  {
   "cell_type": "code",
   "execution_count": 22,
   "id": "f81869a7-9821-4a10-b7f2-3b90ad30e39d",
   "metadata": {
    "tags": []
   },
   "outputs": [],
   "source": [
    "# Todo o tratamento que fiz com o dataset DF(treino), Estou refazendo com o de teste\n",
    "\n",
    "teste['IsMale'] = teste['Sex'].apply(lambda x: 1 if x == 'male' else 0)\n",
    "#teste = pd.concat([teste, pd.get_dummies(teste['Embarked'])], axis=1) Estre tratamento piorou o modelo\n",
    "teste = teste.drop(['PassengerId', 'Name'], axis=1)\n",
    "teste = teste.drop('Cabin', axis=1)\n",
    "teste.loc[teste['Age'].isnull(), 'Age'] = teste['Age'].mean()\n",
    "teste = teste.dropna()\n",
    "teste = teste.drop(colunas, axis=1)\n",
    "teste = teste.drop(retirar, axis=1)"
   ]
  },
  {
   "cell_type": "code",
   "execution_count": 23,
   "id": "62835504-2214-4338-8099-05f31e6bde05",
   "metadata": {
    "scrolled": true,
    "tags": []
   },
   "outputs": [
    {
     "name": "stdout",
     "output_type": "stream",
     "text": [
      "<class 'pandas.core.frame.DataFrame'>\n",
      "Int64Index: 417 entries, 0 to 417\n",
      "Data columns (total 5 columns):\n",
      " #   Column    Non-Null Count  Dtype  \n",
      "---  ------    --------------  -----  \n",
      " 0   Survived  417 non-null    int64  \n",
      " 1   Pclass    417 non-null    int64  \n",
      " 2   Age       417 non-null    float64\n",
      " 3   Fare      417 non-null    float64\n",
      " 4   IsMale    417 non-null    int64  \n",
      "dtypes: float64(2), int64(3)\n",
      "memory usage: 19.5 KB\n"
     ]
    }
   ],
   "source": [
    "# Pegando as informações do dataframe\n",
    "\n",
    "teste.info()"
   ]
  },
  {
   "cell_type": "code",
   "execution_count": 24,
   "id": "c421bffb-c4d3-49a1-942b-6b227ed63c33",
   "metadata": {
    "tags": []
   },
   "outputs": [],
   "source": [
    "# Importando as bibliotecas e criando os classificadores\n",
    "\n",
    "from sklearn.neighbors import KNeighborsClassifier\n",
    "neigh = KNeighborsClassifier(n_neighbors=3)\n",
    "\n",
    "from sklearn import tree\n",
    "clfArvore = tree.DecisionTreeClassifier(random_state=0)\n",
    "\n",
    "from sklearn.linear_model import LogisticRegression\n",
    "clfLog = LogisticRegression(random_state=0, max_iter=1000)"
   ]
  },
  {
   "cell_type": "markdown",
   "id": "bd1d2b30",
   "metadata": {},
   "source": [
    "# Criando as variaveis de treino de teste"
   ]
  },
  {
   "cell_type": "code",
   "execution_count": 25,
   "id": "becef979-39eb-459b-a741-8ad2d89cde3b",
   "metadata": {
    "tags": []
   },
   "outputs": [],
   "source": [
    "X_treino = df.drop('Survived', axis=1)\n",
    "y_treino = df.Survived"
   ]
  },
  {
   "cell_type": "code",
   "execution_count": 26,
   "id": "60123608-481b-4413-9bcb-4731181656ac",
   "metadata": {
    "tags": []
   },
   "outputs": [],
   "source": [
    "X_teste = teste.drop('Survived', axis=1)\n",
    "y_teste = teste.Survived"
   ]
  },
  {
   "cell_type": "markdown",
   "id": "62ee7565",
   "metadata": {},
   "source": [
    "# ---"
   ]
  },
  {
   "cell_type": "code",
   "execution_count": 27,
   "id": "9afd76c3-e6c3-432a-9fad-972047062e94",
   "metadata": {
    "tags": []
   },
   "outputs": [],
   "source": [
    "# Fazendo o fit dos dados nos modelos\n",
    "\n",
    "neight = neigh.fit(X_treino, y_treino)\n",
    "\n",
    "clfArvore = clfArvore.fit(X_treino, y_treino)\n",
    "\n",
    "clfLog = clfLog.fit(X_treino, y_treino) "
   ]
  },
  {
   "cell_type": "code",
   "execution_count": 28,
   "id": "69f1f2c1-76fb-4633-9994-41c709deb067",
   "metadata": {
    "tags": []
   },
   "outputs": [],
   "source": [
    "# Colocando os modelos para prever os dados\n",
    "\n",
    "pred_KNN = neigh.predict(X_teste)\n",
    "\n",
    "pred_Arvore = clfArvore.predict(X_teste)\n",
    "\n",
    "pred_Log = clfLog.predict(X_teste)"
   ]
  },
  {
   "cell_type": "markdown",
   "id": "102c3a4f",
   "metadata": {},
   "source": [
    "# Avaliando os modelos"
   ]
  },
  {
   "cell_type": "code",
   "execution_count": 29,
   "id": "59609008-0713-4d88-b4a4-4925c5cc4523",
   "metadata": {
    "tags": []
   },
   "outputs": [],
   "source": [
    "from sklearn.metrics import accuracy_score\n",
    "from sklearn.metrics import precision_score\n",
    "from sklearn.metrics import recall_score"
   ]
  },
  {
   "cell_type": "code",
   "execution_count": 30,
   "id": "62d15fc2-dee9-417c-96c4-ec5e3178072b",
   "metadata": {
    "tags": []
   },
   "outputs": [
    {
     "name": "stdout",
     "output_type": "stream",
     "text": [
      "0.6546762589928058\n",
      "0.7961630695443646\n",
      "0.9568345323741008\n"
     ]
    }
   ],
   "source": [
    "print(accuracy_score(y_teste, pred_KNN))\n",
    "print(accuracy_score(y_teste, pred_Arvore))\n",
    "print(accuracy_score(y_teste, pred_Log))"
   ]
  },
  {
   "cell_type": "code",
   "execution_count": 31,
   "id": "10d184ee-a80c-4642-8eca-3ed10f2d1557",
   "metadata": {
    "tags": []
   },
   "outputs": [
    {
     "name": "stdout",
     "output_type": "stream",
     "text": [
      "0.527027027027027\n",
      "0.7278911564625851\n",
      "0.935064935064935\n"
     ]
    }
   ],
   "source": [
    "print(precision_score(y_teste, pred_KNN))\n",
    "print(precision_score(y_teste, pred_Arvore))\n",
    "print(precision_score(y_teste, pred_Log))"
   ]
  },
  {
   "cell_type": "code",
   "execution_count": 32,
   "id": "73091dca-f65e-47bd-91a9-e235c03c3caf",
   "metadata": {
    "tags": []
   },
   "outputs": [
    {
     "name": "stdout",
     "output_type": "stream",
     "text": [
      "0.5131578947368421\n",
      "0.7039473684210527\n",
      "0.9473684210526315\n"
     ]
    }
   ],
   "source": [
    "print(recall_score(y_teste, pred_KNN))\n",
    "print(recall_score(y_teste, pred_Arvore))\n",
    "print(recall_score(y_teste, pred_Log))"
   ]
  },
  {
   "cell_type": "code",
   "execution_count": null,
   "id": "f02ae315",
   "metadata": {},
   "outputs": [],
   "source": []
  }
 ],
 "metadata": {
  "kernelspec": {
   "display_name": "Python 3 (ipykernel)",
   "language": "python",
   "name": "python3"
  },
  "language_info": {
   "codemirror_mode": {
    "name": "ipython",
    "version": 3
   },
   "file_extension": ".py",
   "mimetype": "text/x-python",
   "name": "python",
   "nbconvert_exporter": "python",
   "pygments_lexer": "ipython3",
   "version": "3.10.9"
  }
 },
 "nbformat": 4,
 "nbformat_minor": 5
}
